{
 "cells": [
  {
   "cell_type": "code",
   "execution_count": 5,
   "metadata": {},
   "outputs": [],
   "source": [
    "strs = [\"AI is our friend and it has been friendly\", \"AI and humans have always been friendly\"]\n",
    "strs = [\"I was walking down the city, chewing my food and minding my own business.\", \"I hope you would mind your own business when walking down the stupid city.\"]"
   ]
  },
  {
   "cell_type": "code",
   "execution_count": 6,
   "metadata": {},
   "outputs": [
    {
     "name": "stdout",
     "output_type": "stream",
     "text": [
      " i was walk down the citi , chew my food and mind my own busi .\n",
      " i hope you would mind your own busi when walk down the stupid citi .\n"
     ]
    }
   ],
   "source": [
    "import nltk\n",
    "from nltk.stem.snowball import SnowballStemmer\n",
    "from nltk.tokenize import WordPunctTokenizer\n",
    "stemmer = SnowballStemmer(\"english\")\n",
    "nltk_splitter = nltk.data.load('tokenizers/punkt/english.pickle')\n",
    "nltk_tokenizer = nltk.tokenize.TreebankWordTokenizer()\n",
    "\n",
    "one=\"\"\n",
    "two=\"\"\n",
    "sentences = nltk_splitter.tokenize(strs[0])\n",
    "tokenized_sentences = [nltk_tokenizer.tokenize(sent) for sent in sentences]\n",
    "\n",
    "for word in tokenized_sentences[0]:\n",
    "    word = (stemmer.stem(word))\n",
    "    one=one+\" \"+word\n",
    "print(one)    \n",
    "\n",
    "sentences = nltk_splitter.tokenize(strs[1])\n",
    "tokenized_sentences = [nltk_tokenizer.tokenize(sent) for sent in sentences]\n",
    "for word in tokenized_sentences[0]:\n",
    "    word = (stemmer.stem(word))\n",
    "    two=two+\" \"+word\n",
    "print(two)\n",
    "\n",
    "strs[0]=one\n",
    "strs[1]=two"
   ]
  },
  {
   "cell_type": "code",
   "execution_count": 10,
   "metadata": {},
   "outputs": [],
   "source": [
    "# cosine similarity\n",
    "from sklearn.feature_extraction.text import CountVectorizer\n",
    "from sklearn.metrics.pairwise import cosine_similarity\n",
    "def cosine_sim(strs):\n",
    "    cossim= []\n",
    "    for i in range(1,3):\n",
    "        vectorizer = CountVectorizer(strs, stop_words = {'a', 'an', 'the'}, ngram_range=(i,i))\n",
    "        vectorizer.fit(strs)\n",
    "        vectors = vectorizer.transform(strs).toarray()\n",
    "        cossim.append(cosine_similarity(vectors)[0][1])\n",
    "    return cossim"
   ]
  },
  {
   "cell_type": "code",
   "execution_count": 11,
   "metadata": {},
   "outputs": [],
   "source": [
    "# Jaccard similarity\n",
    "def jaccard_sim(str1, str2):\n",
    "    a = set(str1.split())\n",
    "    b = set(str2.split())\n",
    "    c = a.intersection(b)\n",
    "    return float(len(c)) / (len(a) + len(b) - len(c))"
   ]
  },
  {
   "cell_type": "code",
   "execution_count": 12,
   "metadata": {},
   "outputs": [
    {
     "name": "stdout",
     "output_type": "stream",
     "text": [
      "[0.4629100498862758, 0.18181818181818182]\n",
      "0.42857142857142855\n"
     ]
    }
   ],
   "source": [
    "print(cosine_sim(strs))\n",
    "print(jaccard_sim(strs[0], strs[1]))"
   ]
  },
  {
   "cell_type": "code",
   "execution_count": 13,
   "metadata": {},
   "outputs": [],
   "source": [
    "#56, 12, 8, 24\n",
    "def scaled_score(strs):\n",
    "    cossim = cosine_sim(strs)\n",
    "    score = cossim[0]*60 + cossim[1]*16 + jaccard_sim(strs[0], strs[1])*24\n",
    "    if(cossim[1]>=0.1 and cossim[1]<=0.2):\n",
    "        score += 3\n",
    "    elif(cossim[1]>0.2 and cossim[1]<=0.4):\n",
    "        score += 6\n",
    "    elif(cossim[1]>0.4 and cossim[1]<=0.6):\n",
    "        score += 6\n",
    "    elif(cossim[1]>0.6 and cossim[1]<=0.8):\n",
    "        score += 3\n",
    "    elif(cossim[1]>0.8):\n",
    "        score += 16 * (1 - cossim[1])\n",
    "    print(score)"
   ]
  },
  {
   "cell_type": "code",
   "execution_count": 14,
   "metadata": {},
   "outputs": [
    {
     "name": "stdout",
     "output_type": "stream",
     "text": [
      "43.96940818798174\n"
     ]
    }
   ],
   "source": [
    "scaled_score(strs)"
   ]
  },
  {
   "cell_type": "code",
   "execution_count": null,
   "metadata": {},
   "outputs": [],
   "source": []
  }
 ],
 "metadata": {
  "kernelspec": {
   "display_name": "Python 3",
   "language": "python",
   "name": "python3"
  },
  "language_info": {
   "codemirror_mode": {
    "name": "ipython",
    "version": 3
   },
   "file_extension": ".py",
   "mimetype": "text/x-python",
   "name": "python",
   "nbconvert_exporter": "python",
   "pygments_lexer": "ipython3",
   "version": "3.6.5"
  }
 },
 "nbformat": 4,
 "nbformat_minor": 2
}
